{
  "nbformat": 4,
  "nbformat_minor": 0,
  "metadata": {
    "colab": {
      "name": "Darknet_YOLOv3_Cigarette_Smoking_Detection.ipynb",
      "provenance": [],
      "collapsed_sections": [],
      "include_colab_link": true
    },
    "kernelspec": {
      "display_name": "Python 3",
      "language": "python",
      "name": "python3"
    },
    "accelerator": "GPU"
  },
  "cells": [
    {
      "cell_type": "markdown",
      "metadata": {
        "id": "view-in-github",
        "colab_type": "text"
      },
      "source": [
        "<a href=\"https://colab.research.google.com/github/dahebolangkuan/vlog-toolset/blob/master/Darknet_YOLOv3_Cigarette_Smoking_Detection.ipynb\" target=\"_parent\"><img src=\"https://colab.research.google.com/assets/colab-badge.svg\" alt=\"Open In Colab\"/></a>"
      ]
    },
    {
      "cell_type": "markdown",
      "metadata": {
        "id": "CHhR2wyYizjO"
      },
      "source": [
        "Cigarette Smoking detection using YOLOv3 darknet\n",
        "---"
      ]
    },
    {
      "cell_type": "code",
      "metadata": {
        "id": "zuKrDkml1o8Y"
      },
      "source": [
        "!apt update\n",
        "!apt upgrade -y\n",
        "!uname -m && cat /etc/*release\n",
        "!gcc --version\n",
        "!uname -r"
      ],
      "execution_count": null,
      "outputs": []
    },
    {
      "cell_type": "code",
      "metadata": {
        "id": "CcSxk0nhr-Ct"
      },
      "source": [
        "ls"
      ],
      "execution_count": null,
      "outputs": []
    },
    {
      "cell_type": "markdown",
      "metadata": {
        "id": "HVe0hQzc83GY"
      },
      "source": [
        "To access Google Drive Folder and Files"
      ]
    },
    {
      "cell_type": "code",
      "metadata": {
        "id": "8eSazWMO82eu"
      },
      "source": [
        "# Load the Drive helper and mount\n",
        "from google.colab import drive\n",
        "\n",
        "# This will prompt for authorization.\n",
        "drive.mount('/content/drive')"
      ],
      "execution_count": null,
      "outputs": []
    },
    {
      "cell_type": "code",
      "metadata": {
        "id": "b5ywvjkQ9BMn"
      },
      "source": [
        "# After executing the cell above, Drive\n",
        "# files will be present in \"/content/drive/My Drive\".\n",
        "!ls -a \"/content/drive/My Drive/GColab/\""
      ],
      "execution_count": null,
      "outputs": []
    },
    {
      "cell_type": "markdown",
      "metadata": {
        "id": "Gh91u1MqyDLO"
      },
      "source": [
        "**Original Version of Darknet**"
      ]
    },
    {
      "cell_type": "code",
      "metadata": {
        "id": "ojeQnomQue0M"
      },
      "source": [
        "%rm -r darknet\n",
        "!git clone https://github.com/pjreddie/darknet\n",
        "%cd darknet/"
      ],
      "execution_count": null,
      "outputs": []
    },
    {
      "cell_type": "markdown",
      "metadata": {
        "id": "Wd86EGSsx6RA"
      },
      "source": [
        "**Modify Version of Darknet**"
      ]
    },
    {
      "cell_type": "code",
      "metadata": {
        "id": "AxsXDMvXxvSW",
        "colab": {
          "base_uri": "https://localhost:8080/",
          "height": 153
        },
        "outputId": "59adc515-a893-4702-89f8-b7fb2205d587"
      },
      "source": [
        "#%rm -r darknet\n",
        "!git clone https://github.com/AlexeyAB/darknet/\n",
        "%cd darknet/"
      ],
      "execution_count": null,
      "outputs": [
        {
          "output_type": "stream",
          "text": [
            "Cloning into 'darknet'...\n",
            "remote: Enumerating objects: 35, done.\u001b[K\n",
            "remote: Counting objects:   2% (1/35)   \u001b[K\rremote: Counting objects:   5% (2/35)   \u001b[K\rremote: Counting objects:   8% (3/35)   \u001b[K\rremote: Counting objects:  11% (4/35)   \u001b[K\rremote: Counting objects:  14% (5/35)   \u001b[K\rremote: Counting objects:  17% (6/35)   \u001b[K\rremote: Counting objects:  20% (7/35)   \u001b[K\rremote: Counting objects:  22% (8/35)   \u001b[K\rremote: Counting objects:  25% (9/35)   \u001b[K\rremote: Counting objects:  28% (10/35)   \u001b[K\rremote: Counting objects:  31% (11/35)   \u001b[K\rremote: Counting objects:  34% (12/35)   \u001b[K\rremote: Counting objects:  37% (13/35)   \u001b[K\rremote: Counting objects:  40% (14/35)   \u001b[K\rremote: Counting objects:  42% (15/35)   \u001b[K\rremote: Counting objects:  45% (16/35)   \u001b[K\rremote: Counting objects:  48% (17/35)   \u001b[K\rremote: Counting objects:  51% (18/35)   \u001b[K\rremote: Counting objects:  54% (19/35)   \u001b[K\rremote: Counting objects:  57% (20/35)   \u001b[K\rremote: Counting objects:  60% (21/35)   \u001b[K\rremote: Counting objects:  62% (22/35)   \u001b[K\rremote: Counting objects:  65% (23/35)   \u001b[K\rremote: Counting objects:  68% (24/35)   \u001b[K\rremote: Counting objects:  71% (25/35)   \u001b[K\rremote: Counting objects:  74% (26/35)   \u001b[K\rremote: Counting objects:  77% (27/35)   \u001b[K\rremote: Counting objects:  80% (28/35)   \u001b[K\rremote: Counting objects:  82% (29/35)   \u001b[K\rremote: Counting objects:  85% (30/35)   \u001b[K\rremote: Counting objects:  88% (31/35)   \u001b[K\rremote: Counting objects:  91% (32/35)   \u001b[K\rremote: Counting objects:  94% (33/35)   \u001b[K\rremote: Counting objects:  97% (34/35)   \u001b[K\rremote: Counting objects: 100% (35/35)   \u001b[K\rremote: Counting objects: 100% (35/35), done.\u001b[K\n",
            "remote: Compressing objects: 100% (19/19), done.\u001b[K\n",
            "remote: Total 8238 (delta 15), reused 27 (delta 14), pack-reused 8203\u001b[K\n",
            "Receiving objects: 100% (8238/8238), 8.54 MiB | 16.57 MiB/s, done.\n",
            "Resolving deltas: 100% (5527/5527), done.\n",
            "/content/darknet\n"
          ],
          "name": "stdout"
        }
      ]
    },
    {
      "cell_type": "code",
      "metadata": {
        "id": "cIltg5kZtiVm",
        "colab": {
          "base_uri": "https://localhost:8080/",
          "height": 306
        },
        "outputId": "2ac0b6ef-2774-4c33-9a3f-7580e1d8ad22"
      },
      "source": [
        "!apt install libopencv-dev python-opencv ffmpeg"
      ],
      "execution_count": null,
      "outputs": [
        {
          "output_type": "stream",
          "text": [
            "Reading package lists... Done\n",
            "Building dependency tree       \n",
            "Reading state information... Done\n",
            "ffmpeg is already the newest version (7:3.4.4-0ubuntu0.18.04.1).\n",
            "libopencv-dev is already the newest version (3.2.0+dfsg-4ubuntu0.1).\n",
            "The following NEW packages will be installed:\n",
            "  python-opencv\n",
            "0 upgraded, 1 newly installed, 0 to remove and 3 not upgraded.\n",
            "Need to get 535 kB of archives.\n",
            "After this operation, 2,944 kB of additional disk space will be used.\n",
            "Get:1 http://archive.ubuntu.com/ubuntu bionic-updates/universe amd64 python-opencv amd64 3.2.0+dfsg-4ubuntu0.1 [535 kB]\n",
            "Fetched 535 kB in 1s (466 kB/s)\n",
            "Selecting previously unselected package python-opencv.\n",
            "(Reading database ... 110852 files and directories currently installed.)\n",
            "Preparing to unpack .../python-opencv_3.2.0+dfsg-4ubuntu0.1_amd64.deb ...\n",
            "Unpacking python-opencv (3.2.0+dfsg-4ubuntu0.1) ...\n",
            "Setting up python-opencv (3.2.0+dfsg-4ubuntu0.1) ...\n"
          ],
          "name": "stdout"
        }
      ]
    },
    {
      "cell_type": "markdown",
      "metadata": {
        "id": "FHSTeIFJvEl8"
      },
      "source": [
        "Changing the variables to include OpenCV and GPU in the Makefile"
      ]
    },
    {
      "cell_type": "code",
      "metadata": {
        "id": "INUiWQphvFF_"
      },
      "source": [
        "!sed -i 's/OPENCV=0/OPENCV=1/g' Makefile\n",
        "!sed -i 's/GPU=0/GPU=1/g' Makefile\n",
        "#!sed -i 's/CUDNN=0/CUDNN=1/g' Makefile\n",
        "%pycat Makefile"
      ],
      "execution_count": null,
      "outputs": []
    },
    {
      "cell_type": "code",
      "metadata": {
        "id": "kQDhvwpxWRs1"
      },
      "source": [
        "!make"
      ],
      "execution_count": null,
      "outputs": []
    },
    {
      "cell_type": "markdown",
      "metadata": {
        "id": "aCLysbFOL2UF"
      },
      "source": [
        "**How to train (to detect your custom objects):**\n",
        "---"
      ]
    },
    {
      "cell_type": "markdown",
      "metadata": {
        "id": "Uk5TTCBWL5Ea"
      },
      "source": [
        "**Training Yolo v3:**\n",
        "\n",
        "1.Create file yolo-obj.cfg with the same content as in yolov3.cfg (or copy yolov3.cfg to yolo-obj.cfg) and:\n",
        "\n",
        "* change line batch to batch=64\n",
        "* change line subdivisions to subdivisions=8\n",
        "* change line classes=80 to your number of objects in each of 3 [yolo]-layers:\n",
        "  * yolov3.cfg#L610\n",
        "  * yolov3.cfg#L696\n",
        "  * yolov3.cfg#L783\n",
        "* change [filters=255] to filters=(classes + 5)x3 in the 3 [convolutional] before each [yolo] layer\n",
        "  * yolov3.cfg#L603\n",
        "  * yolov3.cfg#L689\n",
        "  * yolov3.cfg#L776\n",
        "  \n",
        "So if classes=1 then should be filters=18. If classes=2 then write filters=21."
      ]
    },
    {
      "cell_type": "code",
      "metadata": {
        "id": "ePe4Qu8QN0Ii"
      },
      "source": [
        "%cp cfg/yolov3.cfg cfg/yolo-obj.cfg\n",
        "!sed -i 's/batch=1/batch=64/g' cfg/yolo-obj.cfg\n",
        "!sed -i 's/subdivisions=1/subdivisions=32/g' cfg/yolo-obj.cfg\n",
        "!sed -i 's/classes=80/classes=1/g' cfg/yolo-obj.cfg\n",
        "!sed -i 's/filters=255/filters=18/g' cfg/yolo-obj.cfg\n",
        "!sed -i 's/width=416/width=608/g' cfg/yolo-obj.cfg\n",
        "!sed -i 's/height=416/height=608/g' cfg/yolo-obj.cfg"
      ],
      "execution_count": null,
      "outputs": []
    },
    {
      "cell_type": "code",
      "metadata": {
        "id": "hE5EGwcSQYbO"
      },
      "source": [
        "%pycat cfg/yolo-obj.cfg"
      ],
      "execution_count": null,
      "outputs": []
    },
    {
      "cell_type": "markdown",
      "metadata": {
        "id": "0Tum3Y4HRoqx"
      },
      "source": [
        "2.Create file obj.names in the directory `build\\darknet\\x64\\data\\` with objects names - each in new line\n",
        "\n"
      ]
    },
    {
      "cell_type": "code",
      "metadata": {
        "id": "L5M9X03jR0Vl"
      },
      "source": [
        "all_classes = \"\"\"Smoking\n",
        "\"\"\"\n",
        "\n",
        "file = \"\"\"text_file = open(\"build/darknet/x64/data/obj.names\", \"w\");text_file.write(all_classes);text_file.close()\"\"\" \n",
        "\n",
        "exec(file)\n",
        "%pycat build/darknet/x64/data/obj.names"
      ],
      "execution_count": null,
      "outputs": []
    },
    {
      "cell_type": "markdown",
      "metadata": {
        "id": "iBAEunM0Ry7b"
      },
      "source": [
        "3.Create file obj.data in the directory `build\\darknet\\x64\\data\\` containing (where classes = number of objects):"
      ]
    },
    {
      "cell_type": "code",
      "metadata": {
        "id": "Bqbe2_uFUzFU"
      },
      "source": [
        "obj_data = \"\"\"classes= 1\n",
        "train  = build/darknet/x64/data/train.txt\n",
        "valid  = build/darknet/x64/data/valid.txt\n",
        "names = build/darknet/x64/data/obj.names\n",
        "backup = build/darknet/x64/backup/\n",
        "\"\"\"\n",
        "\n",
        "file = \"\"\"text_file = open(\"build/darknet/x64/data/obj.data\", \"w\");text_file.write(obj_data);text_file.close()\"\"\" \n",
        "\n",
        "exec(file)\n",
        "%pycat build/darknet/x64/data/obj.data"
      ],
      "execution_count": null,
      "outputs": []
    },
    {
      "cell_type": "markdown",
      "metadata": {
        "id": "FUy55xwhUyVZ"
      },
      "source": [
        "4.Put image-files (.jpg) of your objects in the directory build/darknet/x64/data/obj/\n"
      ]
    },
    {
      "cell_type": "code",
      "metadata": {
        "id": "5TRsi9sS178e"
      },
      "source": [
        "#%mkdir build/darknet/x64/data/obj\n",
        "%cp -r \"/content/drive/My Drive/GColab/Smoking/.\" build/darknet/x64/data/obj/"
      ],
      "execution_count": null,
      "outputs": []
    },
    {
      "cell_type": "code",
      "metadata": {
        "id": "_pEomLo6yvVT"
      },
      "source": [
        "%ls -1 build/darknet/x64/data/obj/*.jpg | wc -l\n",
        "%ls -1 build/darknet/x64/data/obj/*.txt | wc -l"
      ],
      "execution_count": null,
      "outputs": []
    },
    {
      "cell_type": "markdown",
      "metadata": {
        "id": "hiusyk1m_VEe"
      },
      "source": [
        "5.You should label each object on images from your dataset. Use this visual GUI-software for marking bounded boxes of objects and generating annotation files for Yolo v2 & v3: \n",
        "\n",
        "---\n",
        "**LabelImg**\n",
        "  \n",
        "LabelImg is a graphical image annotation tool.: \n",
        "https://github.com/tzutalin/labelImg\n",
        "\n",
        "\n",
        "---\n",
        "\n",
        "**Yolo_mark**\n",
        "\n",
        "Windows & Linux GUI for marking bounded boxes of objects in images for training Yolo v3 and v2\n",
        "\n",
        "https://github.com/AlexeyAB/Yolo_mark\n",
        "\n",
        "It will create `.txt`-file for each `.jpg`-image-file - in the same directory and with the same name, but with `.txt`-extension, and put to file: object number and object coordinates on this image, for each object in new line: `<object-class> <x> <y> <width> <height>`\n",
        "\n",
        "Where:\n",
        "\n",
        "\n",
        "*   `<object-class>` - integer object number from 0 to (classes-1)\n",
        "*   `<x_center> <y_center> <width> <height>` - float values relative to width and height of image, it can be equal from (0.0 to 1.0]\n",
        "*   for example: `<x> = <absolute_x> / <image_width>` or `<height> = <absolute_height> / <image_height>`\n",
        "*   atention: `<x_center> <y_center>` - are center of rectangle (are not top-left corner)\n",
        "\n",
        "\n",
        "For example for img1.jpg you will be created img1.txt containing:\n",
        "\n",
        "\n",
        "```\n",
        "1 0.716797 0.395833 0.216406 0.147222\n",
        "0 0.687109 0.379167 0.255469 0.158333\n",
        "1 0.420312 0.395833 0.140625 0.166667\n",
        "```\n",
        "\n"
      ]
    },
    {
      "cell_type": "markdown",
      "metadata": {
        "id": "P0FXqQ7Gds4A"
      },
      "source": [
        "6.Create file train.txt and valid.txt in directory `build\\darknet\\x64\\data\\` with filenames of your images, each filename in new line, with path relative to darknet, for example containing:\n"
      ]
    },
    {
      "cell_type": "code",
      "metadata": {
        "id": "EGq614FhX6K8"
      },
      "source": [
        "import os, fnmatch\n",
        "import numpy as np\n",
        "\n",
        "train_file = open(\"build/darknet/x64/data/train.txt\", \"w\")\n",
        "valid_file = open(\"build/darknet/x64/data/valid.txt\", \"w\")\n",
        "listOfFiles = os.listdir('build/darknet/x64/data/obj/')  \n",
        "pattern = \"*.jpg\"  \n",
        "for f_name in listOfFiles:  \n",
        "  if fnmatch.fnmatch(f_name, pattern):\n",
        "    if np.random.rand(1) < 0.8:\n",
        "      train_file.write(\"build/darknet/x64/data/obj/\"+f_name+\"\\n\")\n",
        "      #print (\"data/obj/\"+f_name)\n",
        "    else:\n",
        "      valid_file.write(\"build/darknet/x64/data/obj/\"+f_name+\"\\n\")  \n",
        "      \n",
        "train_file.close()\n",
        "valid_file.close()"
      ],
      "execution_count": null,
      "outputs": []
    },
    {
      "cell_type": "code",
      "metadata": {
        "id": "ml2I-ABUTQ6m",
        "colab": {
          "base_uri": "https://localhost:8080/",
          "height": 51
        },
        "outputId": "1185d003-516e-4e02-dd95-0679919138bc"
      },
      "source": [
        "#Count number of files \n",
        "!wc -l build/darknet/x64/data/train.txt\n",
        "!wc -l build/darknet/x64/data/valid.txt"
      ],
      "execution_count": null,
      "outputs": [
        {
          "output_type": "stream",
          "text": [
            "556 build/darknet/x64/data/train.txt\n",
            "137 build/darknet/x64/data/valid.txt\n"
          ],
          "name": "stdout"
        }
      ]
    },
    {
      "cell_type": "code",
      "metadata": {
        "id": "kj-pb3-UqSwd"
      },
      "source": [
        "%pycat build/darknet/x64/data/valid.txt"
      ],
      "execution_count": null,
      "outputs": []
    },
    {
      "cell_type": "markdown",
      "metadata": {
        "id": "K8pPboneqydm"
      },
      "source": [
        "7.Download pre-trained weights for the convolutional layers (154 MB): https://pjreddie.com/media/files/darknet53.conv.74 and put to the directory `build\\darknet\\x64`"
      ]
    },
    {
      "cell_type": "code",
      "metadata": {
        "id": "h_H7qCo9qylB",
        "colab": {
          "base_uri": "https://localhost:8080/",
          "height": 204
        },
        "outputId": "fd1b90c2-d246-4183-ca2c-1b3bde1d434b"
      },
      "source": [
        "!wget -P build/darknet/x64/ https://pjreddie.com/media/files/darknet53.conv.74\n",
        "#%ls build/darknet/x64/"
      ],
      "execution_count": null,
      "outputs": [
        {
          "output_type": "stream",
          "text": [
            "--2019-01-10 04:14:23--  https://pjreddie.com/media/files/darknet53.conv.74\n",
            "Resolving pjreddie.com (pjreddie.com)... 128.208.3.39\n",
            "Connecting to pjreddie.com (pjreddie.com)|128.208.3.39|:443... connected.\n",
            "HTTP request sent, awaiting response... 200 OK\n",
            "Length: 162482580 (155M) [application/octet-stream]\n",
            "Saving to: ‘build/darknet/x64/darknet53.conv.74’\n",
            "\n",
            "darknet53.conv.74   100%[===================>] 154.96M  63.7MB/s    in 2.4s    \n",
            "\n",
            "2019-01-10 04:14:26 (63.7 MB/s) - ‘build/darknet/x64/darknet53.conv.74’ saved [162482580/162482580]\n",
            "\n"
          ],
          "name": "stdout"
        }
      ]
    },
    {
      "cell_type": "markdown",
      "metadata": {
        "id": "9MTqLH85DfV9"
      },
      "source": [
        "8.training by using the command line:\n",
        "\n",
        "\n",
        "```\n",
        "./darknet detector train build/darknet/x64/data/obj.data cfg/yolo-obj.cfg build/darknet/x64/darknet53.conv.74 -dont_show\n",
        "```\n",
        "\n",
        "8.1. For training with mAP (mean average precisions) calculation for each 4 Epochs (set valid=valid.txt or train.txt in obj.data file) and run: \n",
        "\n",
        "\n",
        "\n",
        "```\n",
        "./darknet detector train build/darknet/x64/data/obj.data cfg/yolo-obj.cfg build/darknet/x64/darknet53.conv.74 -dont_show -map\n",
        "```\n",
        "\n"
      ]
    },
    {
      "cell_type": "code",
      "metadata": {
        "id": "C5VW-CkMsTUp"
      },
      "source": [
        "!./darknet detector train build/darknet/x64/data/obj.data cfg/yolo-obj.cfg build/darknet/x64/darknet53.conv.74 -dont_show"
      ],
      "execution_count": null,
      "outputs": []
    },
    {
      "cell_type": "markdown",
      "metadata": {
        "id": "4f_TRrcCEMtN"
      },
      "source": [
        "9.After training is complete - get result yolo-obj_final.weights from path `build\\darknet\\x64\\backup\\`\n",
        "\n",
        "\n",
        "*   After each 100 iterations you can stop and later start training from this point. For example, after 2000 iterations you can stop training, and later just copy yolo-obj_2000.weights from `build\\darknet\\x64\\backup\\` to` build\\darknet\\x64\\ `and start training using: \n",
        "\n",
        "\n",
        "```\n",
        "./darknet detector train data/obj.data yolo-obj.cfg yolo-obj_2000.weights\n",
        "```\n",
        "\n",
        "\n",
        "\n"
      ]
    },
    {
      "cell_type": "code",
      "metadata": {
        "id": "9GHn2iDhgCum"
      },
      "source": [
        "!./darknet detector train build/darknet/x64/data/obj.data cfg/yolo-obj.cfg build/darknet/x64/yolo-obj_1000.weights -dont_show"
      ],
      "execution_count": null,
      "outputs": []
    },
    {
      "cell_type": "markdown",
      "metadata": {
        "id": "p2eWyFXYG06P"
      },
      "source": [
        "Custom object detection:\n",
        "---\n",
        "Example of Cigarette Smoking detection:\n",
        "\n",
        "**Image : **\n",
        "\n",
        "```\n",
        "./darknet detector test build/darknet/x64/data/obj.data cfg/yolo-obj.cfg build/darknet/x64/smoking_1000it.weights -thresh 0.20 data/cigarette.jpg\n",
        "```\n",
        "\n",
        "\n",
        "**Video : **\n",
        "\n",
        "```\n",
        "./darknet detector demo build/darknet/x64/data/obj.data cfg/yolo-obj.cfg build/darknet/x64/smoking_1000it.weights -thresh 0.20 -dont_show Smoking.mp4 -out_filename Smoking_output.mp4\n",
        "```\n",
        "\n"
      ]
    },
    {
      "cell_type": "code",
      "metadata": {
        "id": "Wu3cwRauF2Kv"
      },
      "source": [
        "!./darknet detector demo build/darknet/x64/data/obj.data cfg/yolo-obj.cfg build/darknet/x64/smoking_800it_1avgLoss.weights -thresh 0.20 -dont_show Smoking.mp4 -out_filename Smoking_20%.mp4"
      ],
      "execution_count": null,
      "outputs": []
    },
    {
      "cell_type": "code",
      "metadata": {
        "id": "EDFD5OyR82mL"
      },
      "source": [
        "ls -lh *.mp4"
      ],
      "execution_count": null,
      "outputs": []
    },
    {
      "cell_type": "markdown",
      "metadata": {
        "id": "-Fnf5QO2ftfN"
      },
      "source": [
        "**Playing videos on google colab**"
      ]
    },
    {
      "cell_type": "code",
      "metadata": {
        "id": "qT9TFs4ikb1L"
      },
      "source": [
        "import io\n",
        "import base64\n",
        "from IPython.display import HTML\n",
        "video = io.open('Smoking_20%.mp4', 'r+b').read()\n",
        "encoded = base64.b64encode(video)\n",
        "HTML(data='''<video alt=\"test\" controls><source src=\"data:video/mp4;base64,{0}\" type=\"video/mp4\" /></video>'''.format(encoded.decode('ascii')))"
      ],
      "execution_count": null,
      "outputs": []
    },
    {
      "cell_type": "markdown",
      "metadata": {
        "id": "x0iH6F4viDHq"
      },
      "source": [
        "Extra Tutorial\n",
        "---"
      ]
    },
    {
      "cell_type": "markdown",
      "metadata": {
        "id": "0WV3v9fmdM9u"
      },
      "source": [
        "Copying data from google colab to google drive"
      ]
    },
    {
      "cell_type": "code",
      "metadata": {
        "id": "WlfyY-YBfZ0E"
      },
      "source": [
        "%cp -r build/darknet/x64/yolo-obj_1500up_05avgLoss.weights \"/content/drive/My Drive/GColab/\"\n",
        "%cp -r Smoking_20%.mp4 \"/content/drive/My Drive/GColab/\""
      ],
      "execution_count": null,
      "outputs": []
    },
    {
      "cell_type": "markdown",
      "metadata": {
        "id": "xLvR5EI5dZd-"
      },
      "source": [
        "Downloading the data from the colab"
      ]
    },
    {
      "cell_type": "code",
      "metadata": {
        "id": "IhTDrB9odYk_"
      },
      "source": [
        "from google.colab import files\n",
        "files.download('build/darknet/x64/yolo-obj_1500up_05avgLoss.weights')"
      ],
      "execution_count": null,
      "outputs": []
    },
    {
      "cell_type": "markdown",
      "metadata": {
        "id": "oFhXKJyidnUr"
      },
      "source": [
        "Copying data from google drive to google colab"
      ]
    },
    {
      "cell_type": "code",
      "metadata": {
        "id": "AvorXG2D8v9a"
      },
      "source": [
        "%cp -r \"/content/drive/My Drive/GColab/yolo-obj_1500up_05avgLoss.weights\" build/darknet/x64/\n",
        "%cp -r \"/content/drive/My Drive/GColab/SmokingDEMO.mp4\" ."
      ],
      "execution_count": null,
      "outputs": []
    },
    {
      "cell_type": "markdown",
      "metadata": {
        "id": "o3Yp1VgeAvX1"
      },
      "source": [
        "Youtube Link: \n",
        "---\n",
        "https://youtu.be/vEnQIptZzyI"
      ]
    }
  ]
}